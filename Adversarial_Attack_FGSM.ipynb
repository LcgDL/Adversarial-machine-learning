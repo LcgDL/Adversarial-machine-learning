{
  "nbformat": 4,
  "nbformat_minor": 0,
  "metadata": {
    "accelerator": "TPU",
    "colab": {
      "name": "Adversarial Attack: FGSM.ipynb",
      "provenance": [],
      "collapsed_sections": [],
      "authorship_tag": "ABX9TyNTNA8NfJWOenvRCjMwULHZ",
      "include_colab_link": true
    },
    "kernelspec": {
      "display_name": "Python 3",
      "name": "python3"
    },
    "language_info": {
      "name": "python"
    }
  },
  "cells": [
    {
      "cell_type": "markdown",
      "metadata": {
        "id": "view-in-github",
        "colab_type": "text"
      },
      "source": [
        "<a href=\"https://colab.research.google.com/github/LcgDL/Adversarial-machine-learning/blob/main/Adversarial_Attack_FGSM.ipynb\" target=\"_parent\"><img src=\"https://colab.research.google.com/assets/colab-badge.svg\" alt=\"Open In Colab\"/></a>"
      ]
    },
    {
      "cell_type": "markdown",
      "metadata": {
        "id": "N5WvWeS7hIpV"
      },
      "source": [
        "#Attack"
      ]
    },
    {
      "cell_type": "markdown",
      "metadata": {
        "id": "GYbuCcuaiED2"
      },
      "source": [
        "Import libraries"
      ]
    },
    {
      "cell_type": "code",
      "metadata": {
        "id": "VwzXUZywQM8C"
      },
      "source": [
        "import numpy as np\n",
        "import matplotlib.pyplot as plt\n",
        "%matplotlib inline\n",
        "from IPython.display import Image\n",
        "import tensorflow as tf\n",
        "from tensorflow import keras\n",
        "#keras gives an application programming interface (API)\n",
        "import seaborn as sn    "
      ],
      "execution_count": null,
      "outputs": []
    },
    {
      "cell_type": "markdown",
      "metadata": {
        "id": "VoSxdUzXiVqI"
      },
      "source": [
        "Import dataset"
      ]
    },
    {
      "cell_type": "code",
      "metadata": {
        "id": "ApNXHrkNBNgU",
        "colab": {
          "base_uri": "https://localhost:8080/"
        },
        "outputId": "acdb2615-9577-4a9a-fcab-71d0e4ab3803"
      },
      "source": [
        "(xTrain, yTrain) , (xTest, yTest) = keras.datasets.mnist.load_data()"
      ],
      "execution_count": null,
      "outputs": [
        {
          "output_type": "stream",
          "name": "stdout",
          "text": [
            "Downloading data from https://storage.googleapis.com/tensorflow/tf-keras-datasets/mnist.npz\n",
            "11493376/11490434 [==============================] - 0s 0us/step\n",
            "11501568/11490434 [==============================] - 0s 0us/step\n"
          ]
        }
      ]
    },
    {
      "cell_type": "markdown",
      "metadata": {
        "id": "2chJar1ekIVd"
      },
      "source": [
        "The dataset mnist contains 70,000 images of handwritten digits, of which 60,000 are used for training and 10,000 for testing the model:"
      ]
    },
    {
      "cell_type": "code",
      "metadata": {
        "colab": {
          "base_uri": "https://localhost:8080/"
        },
        "id": "JGvrlnoAWGKI",
        "outputId": "19d9bbf8-6dfd-47d0-8db0-6415769d2aca"
      },
      "source": [
        "xTrain.shape"
      ],
      "execution_count": null,
      "outputs": [
        {
          "output_type": "execute_result",
          "data": {
            "text/plain": [
              "(60000, 28, 28)"
            ]
          },
          "metadata": {},
          "execution_count": 3
        }
      ]
    },
    {
      "cell_type": "code",
      "metadata": {
        "colab": {
          "base_uri": "https://localhost:8080/"
        },
        "id": "l43mSW-QWGDz",
        "outputId": "f3d57d64-6214-4346-d755-a0b16a17a1aa"
      },
      "source": [
        "len(xTest)"
      ],
      "execution_count": null,
      "outputs": [
        {
          "output_type": "execute_result",
          "data": {
            "text/plain": [
              "10000"
            ]
          },
          "metadata": {},
          "execution_count": 4
        }
      ]
    },
    {
      "cell_type": "markdown",
      "metadata": {
        "id": "l8drfeN8j9Te"
      },
      "source": [
        "The images are represented with 28 × 28 pixels in grayscale and contain all digits between 0 and 9. The pixel values range from 0 to 255.\n"
      ]
    },
    {
      "cell_type": "code",
      "metadata": {
        "colab": {
          "base_uri": "https://localhost:8080/",
          "height": 292
        },
        "id": "Iy6kJhcvWF5E",
        "outputId": "a1b8ca36-51e4-4575-9bfd-f302e2398712"
      },
      "source": [
        "plt.matshow(xTrain[100])"
      ],
      "execution_count": null,
      "outputs": [
        {
          "output_type": "execute_result",
          "data": {
            "text/plain": [
              "<matplotlib.image.AxesImage at 0x7f20c2432250>"
            ]
          },
          "metadata": {},
          "execution_count": 5
        },
        {
          "output_type": "display_data",
          "data": {
            "image/png": "[encoded data removed]",
            "text/plain": [
              "<Figure size 288x288 with 1 Axes>"
            ]
          },
          "metadata": {
            "needs_background": "light"
          }
        }
      ]
    },
    {
      "cell_type": "markdown",
      "metadata": {
        "id": "7rbDkyjyjvcs"
      },
      "source": [
        "Internally, the training image is represented as a two-dimensional array:"
      ]
    },
    {
      "cell_type": "code",
      "metadata": {
        "colab": {
          "base_uri": "https://localhost:8080/"
        },
        "id": "RmImqt8lXOUA",
        "outputId": "1748810a-10e2-48a2-d944-e67c12e1728e"
      },
      "source": [
        "np.set_printoptions(formatter={'all': lambda x: \"{:.0f}\".format(x)})\n",
        "w=xTrain[100]\n",
        "for i in range(28):\n",
        "   if i == 7:\n",
        "        continue\n",
        "   print(w[i, :])"
      ],
      "execution_count": null,
      "outputs": [
        {
          "output_type": "stream",
          "name": "stdout",
          "text": [
            "[0 0 0 0 0 0 0 0 0 0 0 0 0 0 0 0 0 0 0 0 0 0 0 0 0 0 0 0]\n",
            "[0 0 0 0 0 0 0 0 0 0 0 0 0 0 0 0 0 0 0 0 0 0 0 0 0 0 0 0]\n",
            "[0 0 0 0 0 0 0 0 0 0 0 0 0 0 0 0 0 0 0 0 0 0 0 0 0 0 0 0]\n",
            "[0 0 0 0 0 0 0 0 0 0 0 0 0 0 0 0 0 0 0 0 0 0 0 0 0 0 0 0]\n",
            "[0 0 0 0 0 0 0 0 0 0 0 0 0 0 0 0 0 0 0 0 0 0 0 0 0 0 0 0]\n",
            "[0 0 0 0 0 0 0 0 0 0 0 0 0 0 0 0 0 0 0 0 0 0 0 0 0 0 0 0]\n",
            "[0 0 0 0 0 0 0 0 0 0 0 0 0 2 18 46 136 136 244 255 241 103 0 0 0 0 0 0]\n",
            "[0 0 0 0 0 0 0 0 0 0 0 131 253 253 253 253 237 200 57 0 0 0 0 0 0 0 0 0]\n",
            "[0 0 0 0 0 0 0 0 0 0 155 246 253 247 108 65 45 0 0 0 0 0 0 0 0 0 0 0]\n",
            "[0 0 0 0 0 0 0 0 0 0 207 253 253 230 0 0 0 0 0 0 0 0 0 0 0 0 0 0]\n",
            "[0 0 0 0 0 0 0 0 0 0 157 253 253 125 0 0 0 0 0 0 0 0 0 0 0 0 0 0]\n",
            "[0 0 0 0 0 0 0 0 0 0 89 253 250 57 0 0 0 0 0 0 0 0 0 0 0 0 0 0]\n",
            "[0 0 0 0 0 0 0 0 0 0 89 253 247 0 0 0 0 0 0 0 0 0 0 0 0 0 0 0]\n",
            "[0 0 0 0 0 0 0 0 0 0 89 253 247 0 0 0 0 0 0 0 0 0 0 0 0 0 0 0]\n",
            "[0 0 0 0 0 0 0 0 0 0 89 253 247 0 0 0 0 0 0 0 0 0 0 0 0 0 0 0]\n",
            "[0 0 0 0 0 0 0 0 0 0 21 231 249 34 0 0 0 0 0 0 0 0 0 0 0 0 0 0]\n",
            "[0 0 0 0 0 0 0 0 0 0 0 225 253 231 213 213 123 16 0 0 0 0 0 0 0 0 0 0]\n",
            "[0 0 0 0 0 0 0 0 0 0 0 172 253 253 253 253 253 190 63 0 0 0 0 0 0 0 0 0]\n",
            "[0 0 0 0 0 0 0 0 0 0 0 2 116 72 124 209 253 253 141 0 0 0 0 0 0 0 0 0]\n",
            "[0 0 0 0 0 0 0 0 0 0 0 0 0 0 0 25 219 253 206 3 0 0 0 0 0 0 0 0]\n",
            "[0 0 0 0 0 0 0 0 0 0 0 0 0 0 0 0 104 246 253 5 0 0 0 0 0 0 0 0]\n",
            "[0 0 0 0 0 0 0 0 0 0 0 0 0 0 0 0 0 213 253 5 0 0 0 0 0 0 0 0]\n",
            "[0 0 0 0 0 0 0 0 0 0 0 0 0 0 0 0 26 226 253 5 0 0 0 0 0 0 0 0]\n",
            "[0 0 0 0 0 0 0 0 0 0 0 0 0 0 0 0 132 253 209 3 0 0 0 0 0 0 0 0]\n",
            "[0 0 0 0 0 0 0 0 0 0 0 0 0 0 0 0 78 253 86 0 0 0 0 0 0 0 0 0]\n",
            "[0 0 0 0 0 0 0 0 0 0 0 0 0 0 0 0 0 0 0 0 0 0 0 0 0 0 0 0]\n",
            "[0 0 0 0 0 0 0 0 0 0 0 0 0 0 0 0 0 0 0 0 0 0 0 0 0 0 0 0]\n"
          ]
        }
      ]
    },
    {
      "cell_type": "markdown",
      "metadata": {
        "id": "3Mdt95v7kUvq"
      },
      "source": [
        "It is scaled, i.e. its contents are mapped to the number space [0,1]."
      ]
    },
    {
      "cell_type": "code",
      "metadata": {
        "id": "5V1bnm1cWF1p"
      },
      "source": [
        "xTrain = tf.keras.utils.normalize(xTrain, axis=1)\n",
        "xTest = tf.keras.utils.normalize(xTest, axis=1)"
      ],
      "execution_count": null,
      "outputs": []
    },
    {
      "cell_type": "code",
      "metadata": {
        "colab": {
          "base_uri": "https://localhost:8080/"
        },
        "id": "brPYR3ViW0hN",
        "outputId": "6fcb5d8d-f35a-44b2-ccf0-e0a60c8038fc"
      },
      "source": [
        "np.set_printoptions(formatter={'all': lambda x: \"{:.0f}\".format(x)})\n",
        "w=xTrain[100]\n",
        "for i in range(28):\n",
        "   if i == 7:\n",
        "        continue\n",
        "   print(w[i, :])"
      ],
      "execution_count": null,
      "outputs": [
        {
          "output_type": "stream",
          "name": "stdout",
          "text": [
            "[0 0 0 0 0 0 0 0 0 0 0 0 0 0 0 0 0 0 0 0 0 0 0 0 0 0 0 0]\n",
            "[0 0 0 0 0 0 0 0 0 0 0 0 0 0 0 0 0 0 0 0 0 0 0 0 0 0 0 0]\n",
            "[0 0 0 0 0 0 0 0 0 0 0 0 0 0 0 0 0 0 0 0 0 0 0 0 0 0 0 0]\n",
            "[0 0 0 0 0 0 0 0 0 0 0 0 0 0 0 0 0 0 0 0 0 0 0 0 0 0 0 0]\n",
            "[0 0 0 0 0 0 0 0 0 0 0 0 0 0 0 0 0 0 0 0 0 0 0 0 0 0 0 0]\n",
            "[0 0 0 0 0 0 0 0 0 0 0 0 0 0 0 0 0 0 0 0 0 0 0 0 0 0 0 0]\n",
            "[0 0 0 0 0 0 0 0 0 0 0 0 0 0 0 0 0 0 0 1 1 1 0 0 0 0 0 0]\n",
            "[0 0 0 0 0 0 0 0 0 0 0 0 0 0 0 0 0 0 0 0 0 0 0 0 0 0 0 0]\n",
            "[0 0 0 0 0 0 0 0 0 0 0 0 0 0 0 0 0 0 0 0 0 0 0 0 0 0 0 0]\n",
            "[0 0 0 0 0 0 0 0 0 0 1 0 0 0 0 0 0 0 0 0 0 0 0 0 0 0 0 0]\n",
            "[0 0 0 0 0 0 0 0 0 0 0 0 0 0 0 0 0 0 0 0 0 0 0 0 0 0 0 0]\n",
            "[0 0 0 0 0 0 0 0 0 0 0 0 0 0 0 0 0 0 0 0 0 0 0 0 0 0 0 0]\n",
            "[0 0 0 0 0 0 0 0 0 0 0 0 0 0 0 0 0 0 0 0 0 0 0 0 0 0 0 0]\n",
            "[0 0 0 0 0 0 0 0 0 0 0 0 0 0 0 0 0 0 0 0 0 0 0 0 0 0 0 0]\n",
            "[0 0 0 0 0 0 0 0 0 0 0 0 0 0 0 0 0 0 0 0 0 0 0 0 0 0 0 0]\n",
            "[0 0 0 0 0 0 0 0 0 0 0 0 0 0 0 0 0 0 0 0 0 0 0 0 0 0 0 0]\n",
            "[0 0 0 0 0 0 0 0 0 0 0 0 0 0 0 0 0 0 0 0 0 0 0 0 0 0 0 0]\n",
            "[0 0 0 0 0 0 0 0 0 0 0 0 0 0 0 0 0 0 0 0 0 0 0 0 0 0 0 0]\n",
            "[0 0 0 0 0 0 0 0 0 0 0 0 0 0 0 0 0 0 0 0 0 0 0 0 0 0 0 0]\n",
            "[0 0 0 0 0 0 0 0 0 0 0 0 0 0 0 0 0 0 0 0 0 0 0 0 0 0 0 0]\n",
            "[0 0 0 0 0 0 0 0 0 0 0 0 0 0 0 0 0 0 0 0 0 0 0 0 0 0 0 0]\n",
            "[0 0 0 0 0 0 0 0 0 0 0 0 0 0 0 0 0 0 0 0 0 0 0 0 0 0 0 0]\n",
            "[0 0 0 0 0 0 0 0 0 0 0 0 0 0 0 0 0 0 0 0 0 0 0 0 0 0 0 0]\n",
            "[0 0 0 0 0 0 0 0 0 0 0 0 0 0 0 0 0 0 0 0 0 0 0 0 0 0 0 0]\n",
            "[0 0 0 0 0 0 0 0 0 0 0 0 0 0 0 0 0 0 0 0 0 0 0 0 0 0 0 0]\n",
            "[0 0 0 0 0 0 0 0 0 0 0 0 0 0 0 0 0 0 0 0 0 0 0 0 0 0 0 0]\n",
            "[0 0 0 0 0 0 0 0 0 0 0 0 0 0 0 0 0 0 0 0 0 0 0 0 0 0 0 0]\n"
          ]
        }
      ]
    },
    {
      "cell_type": "markdown",
      "metadata": {
        "id": "HeZaoA7Flf1m"
      },
      "source": [
        "Reshape the data"
      ]
    },
    {
      "cell_type": "code",
      "metadata": {
        "colab": {
          "base_uri": "https://localhost:8080/"
        },
        "id": "lSxPTNy3W0du",
        "outputId": "500c3f95-6e22-4cd8-e183-0c6168fcdb25"
      },
      "source": [
        "xTrain = xTrain.reshape((-1, 28, 28, 1))\n",
        "xTest = xTest.reshape((-1, 28, 28, 1))\n",
        "print(\"Shapes: \", xTrain.shape, xTest.shape)\n",
        "yTrain = tf.keras.utils.to_categorical(yTrain, 10)\n",
        "yTest = tf.keras.utils.to_categorical(yTest, 10)\n",
        "print(\"Shapes:\", yTrain.shape, yTest.shape)"
      ],
      "execution_count": null,
      "outputs": [
        {
          "output_type": "stream",
          "name": "stdout",
          "text": [
            "Shapes:  (60000, 28, 28, 1) (10000, 28, 28, 1)\n",
            "Shapes: (60000, 10) (10000, 10)\n"
          ]
        }
      ]
    },
    {
      "cell_type": "markdown",
      "metadata": {
        "id": "T7ZlGMIqrrIJ"
      },
      "source": [
        "#Model"
      ]
    },
    {
      "cell_type": "code",
      "metadata": {
        "id": "hPVD8cwIWFta"
      },
      "source": [
        "from tensorflow.keras import datasets, layers, models\n",
        "modelCNN = models.Sequential([\n",
        "    layers.Conv2D(filters=32, kernel_size=(3, 3), activation='relu', input_shape=(28, 28, 1)),\n",
        "    layers.MaxPooling2D((2, 2)),\n",
        "    layers.Dropout(0.2),\n",
        "\n",
        "    layers.Flatten(),\n",
        "    layers.Dense(32, activation='relu'),\n",
        "    layers.Dense(10, activation='softmax')\n",
        "])"
      ],
      "execution_count": null,
      "outputs": []
    },
    {
      "cell_type": "code",
      "metadata": {
        "colab": {
          "base_uri": "https://localhost:8080/"
        },
        "id": "oaTQXJrC7i3Q",
        "outputId": "23f3f7a3-102e-4457-8c2f-cbeb1877ae60"
      },
      "source": [
        "modelCNN.summary()"
      ],
      "execution_count": null,
      "outputs": [
        {
          "output_type": "stream",
          "name": "stdout",
          "text": [
            "Model: \"sequential\"\n",
            "_________________________________________________________________\n",
            "Layer (type)                 Output Shape              Param #   \n",
            "=================================================================\n",
            "conv2d (Conv2D)              (None, 26, 26, 32)        320       \n",
            "_________________________________________________________________\n",
            "max_pooling2d (MaxPooling2D) (None, 13, 13, 32)        0         \n",
            "_________________________________________________________________\n",
            "dropout (Dropout)            (None, 13, 13, 32)        0         \n",
            "_________________________________________________________________\n",
            "flatten (Flatten)            (None, 5408)              0         \n",
            "_________________________________________________________________\n",
            "dense (Dense)                (None, 32)                173088    \n",
            "_________________________________________________________________\n",
            "dense_1 (Dense)              (None, 10)                330       \n",
            "=================================================================\n",
            "Total params: 173,738\n",
            "Trainable params: 173,738\n",
            "Non-trainable params: 0\n",
            "_________________________________________________________________\n"
          ]
        }
      ]
    },
    {
      "cell_type": "code",
      "metadata": {
        "id": "lsLD0NL0_y2I",
        "colab": {
          "base_uri": "https://localhost:8080/"
        },
        "outputId": "d89f7fbf-3eac-4640-ca12-e54ec38530e5"
      },
      "source": [
        "modelCNN.compile(optimizer='adam',loss='mse',metrics=['accuracy'])\n",
        "CNNhistory = modelCNN.fit(xTrain, yTrain,batch_size=32,epochs=10,validation_data=(xTest, yTest))"
      ],
      "execution_count": null,
      "outputs": [
        {
          "output_type": "stream",
          "name": "stdout",
          "text": [
            "Epoch 1/10\n",
            "1875/1875 [==============================] - 34s 18ms/step - loss: 0.0122 - accuracy: 0.9202 - val_loss: 0.0055 - val_accuracy: 0.9659\n",
            "Epoch 2/10\n",
            "1875/1875 [==============================] - 33s 18ms/step - loss: 0.0052 - accuracy: 0.9676 - val_loss: 0.0041 - val_accuracy: 0.9738\n",
            "Epoch 3/10\n",
            "1875/1875 [==============================] - 33s 18ms/step - loss: 0.0039 - accuracy: 0.9757 - val_loss: 0.0033 - val_accuracy: 0.9780\n",
            "Epoch 4/10\n",
            "1875/1875 [==============================] - 33s 17ms/step - loss: 0.0032 - accuracy: 0.9794 - val_loss: 0.0032 - val_accuracy: 0.9791\n",
            "Epoch 5/10\n",
            "1875/1875 [==============================] - 33s 18ms/step - loss: 0.0028 - accuracy: 0.9819 - val_loss: 0.0029 - val_accuracy: 0.9813\n",
            "Epoch 6/10\n",
            "1875/1875 [==============================] - 33s 17ms/step - loss: 0.0025 - accuracy: 0.9840 - val_loss: 0.0032 - val_accuracy: 0.9795\n",
            "Epoch 7/10\n",
            "1875/1875 [==============================] - 33s 17ms/step - loss: 0.0023 - accuracy: 0.9855 - val_loss: 0.0027 - val_accuracy: 0.9825\n",
            "Epoch 8/10\n",
            "1875/1875 [==============================] - 33s 17ms/step - loss: 0.0020 - accuracy: 0.9878 - val_loss: 0.0026 - val_accuracy: 0.9844\n",
            "Epoch 9/10\n",
            "1875/1875 [==============================] - 32s 17ms/step - loss: 0.0018 - accuracy: 0.9889 - val_loss: 0.0029 - val_accuracy: 0.9818\n",
            "Epoch 10/10\n",
            "1875/1875 [==============================] - 33s 18ms/step - loss: 0.0017 - accuracy: 0.9894 - val_loss: 0.0025 - val_accuracy: 0.9837\n"
          ]
        }
      ]
    },
    {
      "cell_type": "markdown",
      "metadata": {
        "id": "aBVQ-n2ju8Vu"
      },
      "source": [
        "Evaluating Test Dataset"
      ]
    },
    {
      "cell_type": "code",
      "metadata": {
        "colab": {
          "base_uri": "https://localhost:8080/"
        },
        "id": "75lDuNLs7i0D",
        "outputId": "184f041f-5d9c-477a-e9cb-2148c68097c0"
      },
      "source": [
        "modelCNN.evaluate(xTest,yTest)"
      ],
      "execution_count": null,
      "outputs": [
        {
          "output_type": "stream",
          "name": "stdout",
          "text": [
            "313/313 [==============================] - 2s 6ms/step - loss: 0.0025 - accuracy: 0.9837\n"
          ]
        },
        {
          "output_type": "execute_result",
          "data": {
            "text/plain": [
              "[0.0025172289460897446, 0.9836999773979187]"
            ]
          },
          "metadata": {},
          "execution_count": 14
        }
      ]
    },
    {
      "cell_type": "markdown",
      "metadata": {
        "id": "Rl7wI_IdvOI5"
      },
      "source": [
        "Predicction"
      ]
    },
    {
      "cell_type": "code",
      "metadata": {
        "id": "x1cC8RXpAvvo",
        "colab": {
          "base_uri": "https://localhost:8080/"
        },
        "outputId": "bba58e26-6295-4081-e676-fbe4814c62ee"
      },
      "source": [
        "testPredicted=modelCNN.predict(xTest)\n",
        "np.argmax(testPredicted[100])"
      ],
      "execution_count": null,
      "outputs": [
        {
          "output_type": "execute_result",
          "data": {
            "text/plain": [
              "6"
            ]
          },
          "metadata": {},
          "execution_count": 15
        }
      ]
    },
    {
      "cell_type": "code",
      "metadata": {
        "id": "lPOwm4HMA9Z1",
        "colab": {
          "base_uri": "https://localhost:8080/",
          "height": 292
        },
        "outputId": "01b2fca0-2d70-4ce4-aa6c-5f915aa11063"
      },
      "source": [
        "plt.matshow(xTest[100].squeeze())"
      ],
      "execution_count": null,
      "outputs": [
        {
          "output_type": "execute_result",
          "data": {
            "text/plain": [
              "<matplotlib.image.AxesImage at 0x7f20bd408790>"
            ]
          },
          "metadata": {},
          "execution_count": 16
        },
        {
          "output_type": "display_data",
          "data": {
            "image/png": "[encoded data removed]",
            "text/plain": [
              "<Figure size 288x288 with 1 Axes>"
            ]
          },
          "metadata": {
            "needs_background": "light"
          }
        }
      ]
    },
    {
      "cell_type": "markdown",
      "metadata": {
        "id": "rOdqB6jpvz9m"
      },
      "source": [
        "#Adversarial Example"
      ]
    },
    {
      "cell_type": "code",
      "metadata": {
        "id": "3uSVTOCz82vP"
      },
      "source": [
        "def adversarialFun(image, label):\n",
        "    img = tf.cast(image, tf.float32)\n",
        "    with tf.GradientTape() as tap:\n",
        "        tap.watch(img)\n",
        "        prediction = modelCNN(img)\n",
        "        loss = tf.keras.losses.MSE(label, prediction)\n",
        "    gradient = tap.gradient(loss, img)\n",
        "    signedGrad = tf.sign(gradient)\n",
        "    return signedGrad"
      ],
      "execution_count": null,
      "outputs": []
    },
    {
      "cell_type": "markdown",
      "metadata": {
        "id": "-ajBlNrzw16Q"
      },
      "source": [
        "Normal image with its label"
      ]
    },
    {
      "cell_type": "code",
      "metadata": {
        "id": "RtIGEh13qwqV"
      },
      "source": [
        "img = xTrain[100]\n",
        "imgLab = yTrain[100]"
      ],
      "execution_count": null,
      "outputs": []
    },
    {
      "cell_type": "markdown",
      "metadata": {
        "id": "NJEuGeJRxXoB"
      },
      "source": [
        "Generation of perturbation"
      ]
    },
    {
      "cell_type": "code",
      "metadata": {
        "colab": {
          "base_uri": "https://localhost:8080/",
          "height": 265
        },
        "id": "iNBCn_7-qwd1",
        "outputId": "51563449-7c27-4b6f-8b9c-aa5b4692e7cb"
      },
      "source": [
        "perturbation = adversarialFun(img.reshape((1, 28, 28, 1)), imgLab).numpy()\n",
        "adverImg = img + perturbation * 0.1\n",
        "if 1 == 1:\n",
        "    plt.imshow(adverImg.reshape((28, 28)))\n",
        "else:\n",
        "    plt.imshow(adverImg.reshape((28, 28, 2)))\n",
        "plt.show()"
      ],
      "execution_count": null,
      "outputs": [
        {
          "output_type": "display_data",
          "data": {
            "image/png": "[encoded data removed]",
            "text/plain": [
              "<Figure size 432x288 with 1 Axes>"
            ]
          },
          "metadata": {
            "needs_background": "light"
          }
        }
      ]
    },
    {
      "cell_type": "code",
      "metadata": {
        "colab": {
          "base_uri": "https://localhost:8080/"
        },
        "id": "pCVT8YTyqwZt",
        "outputId": "9b404c8d-481c-47e6-f6fd-2bb304ef693e"
      },
      "source": [
        "labs = ['zero=0', 'one=1', 'two=2', 'three=3', 'four=4', 'five=5', 'six=6', 'seven=7', 'eight=8', 'nine=9']\n",
        "print(\"Correct prediction: \",labs[modelCNN.predict(img.reshape((1, 28, 28, 1))).argmax()])\n",
        "print(\"Adversarial prediction: \",labs[modelCNN.predict(adversarial).argmax()])"
      ],
      "execution_count": null,
      "outputs": [
        {
          "output_type": "stream",
          "name": "stdout",
          "text": [
            "Correct prediction:  five=5\n",
            "Adversarial prediction:  one=1\n"
          ]
        }
      ]
    },
    {
      "cell_type": "markdown",
      "metadata": {
        "id": "U2k5fsZk0ati"
      },
      "source": [
        "#Defense"
      ]
    },
    {
      "cell_type": "markdown",
      "metadata": {
        "id": "fvts6UuG0tpJ"
      },
      "source": [
        "Adversarial Generator"
      ]
    },
    {
      "cell_type": "code",
      "metadata": {
        "id": "XKUyLyCWqwV_"
      },
      "source": [
        "import random\n",
        "def generator(batchSize):\n",
        "    while True:\n",
        "        x,y = [],[]\n",
        "        for b in range(batchSize):\n",
        "            r = random.randint(0, 100)\n",
        "            lab = yTrain[r]\n",
        "            img = xTrain[r]\n",
        "            perturbation = adversarialFun(img.reshape((1, 28, 28, 1)), lab).numpy()\n",
        "            adverImg = img + perturbation * 0.1\n",
        "            x.append(adverImg)\n",
        "            y.append(yTrain[r])\n",
        "        x = np.asarray(x).reshape((batchSize, 28, 28, 1))\n",
        "        y = np.asarray(y)\n",
        "        \n",
        "        yield x, y\n",
        "xAdvTest, yAdvTest = next(generator(10000))"
      ],
      "execution_count": null,
      "outputs": []
    },
    {
      "cell_type": "code",
      "metadata": {
        "colab": {
          "base_uri": "https://localhost:8080/"
        },
        "id": "W349aq865gOf",
        "outputId": "38c2dd69-9a60-4cc2-b371-f89671ce9d11"
      },
      "source": [
        "print(\"Adversarial Accuracy:\", modelCNN.evaluate(x=xAdvTest, y=yAdvTest, verbose=0))"
      ],
      "execution_count": null,
      "outputs": [
        {
          "output_type": "stream",
          "name": "stdout",
          "text": [
            "Adversarial Accuracy: [0.18108929693698883, 0.05849999934434891]\n"
          ]
        }
      ]
    },
    {
      "cell_type": "markdown",
      "metadata": {
        "id": "zHO3rzLpA0bm"
      },
      "source": [
        "The model becomes more robust"
      ]
    },
    {
      "cell_type": "code",
      "metadata": {
        "id": "Z1LYMVb2BxPo"
      },
      "source": [
        "xTrainAdv, yTrainAdv = next(generator(20000))"
      ],
      "execution_count": null,
      "outputs": []
    },
    {
      "cell_type": "code",
      "metadata": {
        "colab": {
          "base_uri": "https://localhost:8080/"
        },
        "id": "Z4DeWuopCulS",
        "outputId": "240b7438-5ee8-4e86-e4bb-7cffaa3f638a"
      },
      "source": [
        "modelCNN.fit(xTrainAdv, yTrainAdv,batch_size=32,epochs=10,validation_data=(xTest, yTest))"
      ],
      "execution_count": null,
      "outputs": [
        {
          "output_type": "stream",
          "name": "stdout",
          "text": [
            "Epoch 1/10\n",
            "625/625 [==============================] - 12s 20ms/step - loss: 0.0513 - accuracy: 0.6783 - val_loss: 0.0120 - val_accuracy: 0.9194\n",
            "Epoch 2/10\n",
            "625/625 [==============================] - 12s 20ms/step - loss: 1.2291e-05 - accuracy: 1.0000 - val_loss: 0.0124 - val_accuracy: 0.9173\n",
            "Epoch 3/10\n",
            "625/625 [==============================] - 12s 20ms/step - loss: 3.7293e-06 - accuracy: 1.0000 - val_loss: 0.0125 - val_accuracy: 0.9173\n",
            "Epoch 4/10\n",
            "625/625 [==============================] - 12s 20ms/step - loss: 2.0244e-06 - accuracy: 1.0000 - val_loss: 0.0126 - val_accuracy: 0.9170\n",
            "Epoch 5/10\n",
            "625/625 [==============================] - 12s 20ms/step - loss: 1.2430e-06 - accuracy: 1.0000 - val_loss: 0.0128 - val_accuracy: 0.9163\n",
            "Epoch 6/10\n",
            "625/625 [==============================] - 12s 20ms/step - loss: 7.6209e-07 - accuracy: 1.0000 - val_loss: 0.0128 - val_accuracy: 0.9158\n",
            "Epoch 7/10\n",
            "625/625 [==============================] - 12s 20ms/step - loss: 5.9529e-07 - accuracy: 1.0000 - val_loss: 0.0128 - val_accuracy: 0.9174\n",
            "Epoch 8/10\n",
            "625/625 [==============================] - 12s 20ms/step - loss: 4.3134e-07 - accuracy: 1.0000 - val_loss: 0.0130 - val_accuracy: 0.9157\n",
            "Epoch 9/10\n",
            "625/625 [==============================] - 12s 20ms/step - loss: 2.9993e-07 - accuracy: 1.0000 - val_loss: 0.0132 - val_accuracy: 0.9142\n",
            "Epoch 10/10\n",
            "625/625 [==============================] - 13s 20ms/step - loss: 1.9980e-07 - accuracy: 1.0000 - val_loss: 0.0132 - val_accuracy: 0.9148\n"
          ]
        },
        {
          "output_type": "execute_result",
          "data": {
            "text/plain": [
              "<keras.callbacks.History at 0x7f20c1f1a6d0>"
            ]
          },
          "metadata": {},
          "execution_count": 36
        }
      ]
    },
    {
      "cell_type": "code",
      "metadata": {
        "colab": {
          "base_uri": "https://localhost:8080/"
        },
        "id": "QuY3UX2NCuha",
        "outputId": "61fc3eb8-2af3-46df-c650-bffbec28c5a7"
      },
      "source": [
        "print(\"Accuracy on testing dataset: \")\n",
        "modelCNN.evaluate(xTest,yTest)"
      ],
      "execution_count": null,
      "outputs": [
        {
          "output_type": "stream",
          "name": "stdout",
          "text": [
            "Accuracy on testing dataset: \n",
            "313/313 [==============================] - 2s 6ms/step - loss: 0.0132 - accuracy: 0.9148\n"
          ]
        },
        {
          "output_type": "execute_result",
          "data": {
            "text/plain": [
              "[0.013162393122911453, 0.9147999882698059]"
            ]
          },
          "metadata": {},
          "execution_count": 37
        }
      ]
    },
    {
      "cell_type": "code",
      "metadata": {
        "colab": {
          "base_uri": "https://localhost:8080/"
        },
        "id": "EyA1AechGEwF",
        "outputId": "9b3c1e1c-0d5f-4460-a3d8-3371fa5a12a1"
      },
      "source": [
        "print(\"Accuracy on adversarial testing dataset: \")\n",
        "modelCNN.evaluate(xAdvTest,yAdvTest)"
      ],
      "execution_count": null,
      "outputs": [
        {
          "output_type": "stream",
          "name": "stdout",
          "text": [
            "Accuracy on adversarial testing dataset: \n",
            "313/313 [==============================] - 2s 6ms/step - loss: 3.7207e-08 - accuracy: 1.0000\n"
          ]
        },
        {
          "output_type": "execute_result",
          "data": {
            "text/plain": [
              "[3.720672481222209e-08, 1.0]"
            ]
          },
          "metadata": {},
          "execution_count": 39
        }
      ]
    },
    {
      "cell_type": "markdown",
      "metadata": {
        "id": "DtZWf8OM6a9R"
      },
      "source": [
        "Improving the model in the detection of Adversarial Examples:"
      ]
    },
    {
      "cell_type": "code",
      "metadata": {
        "colab": {
          "base_uri": "https://localhost:8080/"
        },
        "id": "VoKy0B6r6YHE",
        "outputId": "643be985-4f01-44fc-f276-cdd460b3be86"
      },
      "source": [
        "labs = ['zero=0', 'one=1', 'two=2', 'three=3', 'four=4', 'five=5', 'six=6', 'seven=7', 'eight=8', 'nine=9']\n",
        "print(\"Correct prediction: \",labs[modelCNN.predict(img.reshape((1, 28, 28, 1))).argmax()])\n",
        "print(\"Adversarial prediction: \",labs[modelCNN.predict(adversarial).argmax()])"
      ],
      "execution_count": null,
      "outputs": [
        {
          "output_type": "stream",
          "name": "stdout",
          "text": [
            "Correct prediction:  five=5\n",
            "Adversarial prediction:  five=5\n"
          ]
        }
      ]
    },
    {
      "cell_type": "markdown",
      "metadata": {
        "id": "SfcWVNdb-diN"
      },
      "source": [
        "Literature\n",
        "\n",
        "-\"Adversarial Attacks and Defences: A Survey\" Anirban Chakraborty, Manaar Alam, Vishal Dey, Anupam Chattopadhyay, Debdeep Mukhopadhyay\n",
        "\n",
        "-\"Explaining and Harnessing Adversarial Examples\" Ian J. Goodfellow, Jonathon Shlens, Christian Szegedy"
      ]
    }
  ]
}